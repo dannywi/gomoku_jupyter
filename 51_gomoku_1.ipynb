{
 "cells": [
  {
   "cell_type": "markdown",
   "metadata": {},
   "source": [
    "# GOMOKU GAME - Player vs Intelligence"
   ]
  },
  {
   "cell_type": "code",
   "execution_count": 4,
   "metadata": {},
   "outputs": [
    {
     "data": {
      "application/vnd.jupyter.widget-view+json": {
       "model_id": "780dc4b70ba04638b697706f5013dfef"
      }
     },
     "metadata": {},
     "output_type": "display_data"
    }
   ],
   "source": [
    "import sys\n",
    "#sys.path.append(\"/Users/dannywidjaya/Documents/Projects\")\n",
    "sys.path.append(\".\")\n",
    "from dw_python_lib.gomoku import board\n",
    "from dw_python_lib.gomoku import player\n",
    "from IPython.display import display\n",
    "from ipywidgets import Button, HBox, VBox, Layout\n",
    "\n",
    "g_board = board.board()\n",
    "\n",
    "p_human_move_fn = g_board.player_1\n",
    "p_human_mark = g_board.mark_player_1\n",
    "\n",
    "p_intel = player.player(g_board, g_board.player_2, g_board.mark_player_2)\n",
    "\n",
    "def on_b_clicked(r, c, mark):\n",
    "    def move_fn(b):\n",
    "        # Move human as specified\n",
    "        if p_human_move_fn((r, c)):\n",
    "            b.description = mark\n",
    "        \n",
    "        p_intel.dump_jump_table()\n",
    "        # automatically do opponent move\n",
    "        move_2 = p_intel.next_move_suggestion()\n",
    "        if g_board.player_2(move_2):\n",
    "            button_dict[move_2].description = p_intel.mark()\n",
    "\n",
    "    return move_fn\n",
    "\n",
    "button_dict = {}\n",
    "for (row, col) in g_board.get_empty_coordinates():\n",
    "    b = Button(description = '', layout = Layout(width='20px', height='20px'))\n",
    "    b.on_click(on_b_clicked(row, col, p_human_mark))\n",
    "    button_dict[(row, col)] = b\n",
    "\n",
    "board_size = g_board.board_size()\n",
    "vert = []\n",
    "for i in xrange(board_size):\n",
    "    horz = []\n",
    "    for j in xrange(board_size):\n",
    "        horz.append(button_dict[(i, j)])\n",
    "    vert.append(HBox(horz))\n",
    "board_display = VBox(vert)\n",
    "display(board_display)"
   ]
  },
  {
   "cell_type": "code",
   "execution_count": null,
   "metadata": {
    "collapsed": true
   },
   "outputs": [],
   "source": []
  }
 ],
 "metadata": {
  "kernelspec": {
   "display_name": "Python 2",
   "language": "python",
   "name": "python2"
  },
  "language_info": {
   "codemirror_mode": {
    "name": "ipython",
    "version": 2
   },
   "file_extension": ".py",
   "mimetype": "text/x-python",
   "name": "python",
   "nbconvert_exporter": "python",
   "pygments_lexer": "ipython2",
   "version": "2.7.13"
  }
 },
 "nbformat": 4,
 "nbformat_minor": 2
}
